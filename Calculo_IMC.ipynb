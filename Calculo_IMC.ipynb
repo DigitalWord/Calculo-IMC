{
  "nbformat": 4,
  "nbformat_minor": 0,
  "metadata": {
    "colab": {
      "name": "Calculo_IMC.ipynb",
      "provenance": []
    },
    "kernelspec": {
      "name": "python3",
      "display_name": "Python 3"
    },
    "language_info": {
      "name": "python"
    }
  },
  "cells": [
    {
      "cell_type": "code",
      "metadata": {
        "id": "z8pNInq3V0fC"
      },
      "source": [
        "import pandas as pd\n",
        "import numpy as np"
      ],
      "execution_count": 150,
      "outputs": []
    },
    {
      "cell_type": "code",
      "metadata": {
        "id": "aq8UZBJPWVDr"
      },
      "source": [
        "# Importação dos Dados\n",
        "df = pd.read_csv('dataset.CSV', ';')\n",
        "\n",
        "pd.set_option('display.max_rows', df.shape[0]+1)\n",
        "\n",
        "# Remova as linhas em branco nos dados, se houver\n",
        "df.dropna(inplace=True)"
      ],
      "execution_count": 172,
      "outputs": []
    },
    {
      "cell_type": "code",
      "metadata": {
        "colab": {
          "base_uri": "https://localhost:8080/",
          "height": 415
        },
        "id": "O6RUEUiEWd8G",
        "outputId": "3af71b96-7739-4d22-b350-526bdcd97766"
      },
      "source": [
        "df"
      ],
      "execution_count": 144,
      "outputs": [
        {
          "output_type": "execute_result",
          "data": {
            "text/html": [
              "<div>\n",
              "<style scoped>\n",
              "    .dataframe tbody tr th:only-of-type {\n",
              "        vertical-align: middle;\n",
              "    }\n",
              "\n",
              "    .dataframe tbody tr th {\n",
              "        vertical-align: top;\n",
              "    }\n",
              "\n",
              "    .dataframe thead th {\n",
              "        text-align: right;\n",
              "    }\n",
              "</style>\n",
              "<table border=\"1\" class=\"dataframe\">\n",
              "  <thead>\n",
              "    <tr style=\"text-align: right;\">\n",
              "      <th></th>\n",
              "      <th>Primeiro Nome</th>\n",
              "      <th>Sobrenomes</th>\n",
              "      <th>Peso (kg)</th>\n",
              "      <th>Altura (m)</th>\n",
              "    </tr>\n",
              "  </thead>\n",
              "  <tbody>\n",
              "    <tr>\n",
              "      <th>0</th>\n",
              "      <td>FELIPE</td>\n",
              "      <td>NEVES DA HORA</td>\n",
              "      <td>70.60</td>\n",
              "      <td>1.69</td>\n",
              "    </tr>\n",
              "    <tr>\n",
              "      <th>1</th>\n",
              "      <td>SANDRO</td>\n",
              "      <td>BARBOSA</td>\n",
              "      <td>90.50</td>\n",
              "      <td>1.73</td>\n",
              "    </tr>\n",
              "    <tr>\n",
              "      <th>2</th>\n",
              "      <td>MAYCON</td>\n",
              "      <td>DA SILVA FERREIRA</td>\n",
              "      <td>100.01</td>\n",
              "      <td>1.82</td>\n",
              "    </tr>\n",
              "    <tr>\n",
              "      <th>3</th>\n",
              "      <td>JEFERSON</td>\n",
              "      <td>OLIVEIRA</td>\n",
              "      <td>80.04</td>\n",
              "      <td>1.75</td>\n",
              "    </tr>\n",
              "    <tr>\n",
              "      <th>4</th>\n",
              "      <td>MANUEL</td>\n",
              "      <td>GOMES VIEIRA</td>\n",
              "      <td>63.05</td>\n",
              "      <td>1.80</td>\n",
              "    </tr>\n",
              "    <tr>\n",
              "      <th>...</th>\n",
              "      <td>...</td>\n",
              "      <td>...</td>\n",
              "      <td>...</td>\n",
              "      <td>...</td>\n",
              "    </tr>\n",
              "    <tr>\n",
              "      <th>94</th>\n",
              "      <td>LUNA</td>\n",
              "      <td>LUNARA LUA</td>\n",
              "      <td>70.00</td>\n",
              "      <td>1.86</td>\n",
              "    </tr>\n",
              "    <tr>\n",
              "      <th>95</th>\n",
              "      <td>HULK</td>\n",
              "      <td>JOSE</td>\n",
              "      <td>35.50</td>\n",
              "      <td>1.20</td>\n",
              "    </tr>\n",
              "    <tr>\n",
              "      <th>96</th>\n",
              "      <td>MARIA</td>\n",
              "      <td>GOMES</td>\n",
              "      <td>58.05</td>\n",
              "      <td>1.56</td>\n",
              "    </tr>\n",
              "    <tr>\n",
              "      <th>97</th>\n",
              "      <td>PAULO</td>\n",
              "      <td>ROCHA</td>\n",
              "      <td>98.07</td>\n",
              "      <td>2.00</td>\n",
              "    </tr>\n",
              "    <tr>\n",
              "      <th>98</th>\n",
              "      <td>LUANE</td>\n",
              "      <td>SANTANA TEIXEIRA</td>\n",
              "      <td>50.78</td>\n",
              "      <td>1.50</td>\n",
              "    </tr>\n",
              "  </tbody>\n",
              "</table>\n",
              "<p>98 rows × 4 columns</p>\n",
              "</div>"
            ],
            "text/plain": [
              "   Primeiro Nome         Sobrenomes  Peso (kg)  Altura (m)\n",
              "0         FELIPE      NEVES DA HORA      70.60        1.69\n",
              "1         SANDRO            BARBOSA      90.50        1.73\n",
              "2         MAYCON  DA SILVA FERREIRA     100.01        1.82\n",
              "3       JEFERSON           OLIVEIRA      80.04        1.75\n",
              "4         MANUEL       GOMES VIEIRA      63.05        1.80\n",
              "..           ...                ...        ...         ...\n",
              "94          LUNA         LUNARA LUA      70.00        1.86\n",
              "95          HULK               JOSE      35.50        1.20\n",
              "96         MARIA              GOMES      58.05        1.56\n",
              "97         PAULO              ROCHA      98.07        2.00\n",
              "98         LUANE   SANTANA TEIXEIRA      50.78        1.50\n",
              "\n",
              "[98 rows x 4 columns]"
            ]
          },
          "metadata": {
            "tags": []
          },
          "execution_count": 144
        }
      ]
    },
    {
      "cell_type": "code",
      "metadata": {
        "id": "pauou2Jha1To"
      },
      "source": [
        "# Função que muda todo o texto para maiúsculas\n",
        "def upperlize(df, desired_cols):\n",
        "    result = df.copy()\n",
        "    for feature_name in desired_cols:\n",
        "        result[feature_name] = [entry.upper() for entry in df[feature_name]]\n",
        "    return result\n",
        "\n",
        "#  Função que converte os valores da coluna Peso (kg) e Altura (m) para float\n",
        "def floatlize(df, desired_cols):\n",
        "    result = df.copy()\n",
        "    for feature_name in desired_cols:\n",
        "        result[feature_name] = pd.to_numeric(df[feature_name].str.replace(',','.'))\n",
        "    return result\n",
        "\n",
        "#  Função que retira os espaços extras das colunas Primeiro Nome e Sobrenomes\n",
        "def striplize(df, desired_cols):\n",
        "    result = df.copy()\n",
        "    for feature_name in desired_cols:\n",
        "        result[feature_name] = df[feature_name].str.split().str.join(' ').str.strip()\n",
        "    return result"
      ],
      "execution_count": 173,
      "outputs": []
    },
    {
      "cell_type": "code",
      "metadata": {
        "id": "aU2ACIRsdF36"
      },
      "source": [
        "# Muda todo o texto para maiúsculas\n",
        "df = upperlize(df,['Primeiro Nome','Sobrenomes'])\n",
        "\n",
        "# Convertendo os valores da coluna Peso (kg) e Altura (m) para float\n",
        "df = floatlize(df,['Peso (kg)','Altura (m)'])\n",
        "\n",
        "# Retira os espaços extras das colunas Primeiro Nome e Sobrenomes\n",
        "df = striplize(df,['Primeiro Nome','Sobrenomes'])"
      ],
      "execution_count": 174,
      "outputs": []
    },
    {
      "cell_type": "code",
      "metadata": {
        "id": "V8BillJpgVNJ"
      },
      "source": [
        "# Calcula o IMC\n",
        "calc_IMC = round((df['Peso (kg)']) / (df['Altura (m)']**2), 2)\n",
        "\n",
        "# Lista os resultados do IMC\n",
        "List_calc_IMC = list(map(str, calc_IMC))\n",
        "\n",
        "# Substitui os '.' por ','\n",
        "List_calc_IMC = [sub.replace('.', ',') for sub in List_calc_IMC]\n",
        "\n",
        "# Concatena as Strings para gerar a Saida esperada\n",
        "Saida = df['Primeiro Nome']+ ' ' + df['Sobrenomes'] + ' ' + List_calc_IMC"
      ],
      "execution_count": 175,
      "outputs": []
    },
    {
      "cell_type": "code",
      "metadata": {
        "id": "XqK6YHqLD4Wr"
      },
      "source": [
        "Saida"
      ],
      "execution_count": null,
      "outputs": []
    },
    {
      "cell_type": "code",
      "metadata": {
        "id": "2H4oRy9jsJJ8"
      },
      "source": [
        "# Saida\n",
        "for val in Saida:\n",
        "    print(val)"
      ],
      "execution_count": null,
      "outputs": []
    },
    {
      "cell_type": "code",
      "metadata": {
        "id": "NPSIYPU-FF1p"
      },
      "source": [
        "#Salvar Saida em Arquivo .txt\n",
        "with open(\"PauloHenriqueMirandaSa.txt\", \"w\") as output:\n",
        "    for val in Saida:\n",
        "      output.write(str(val) + '\\n')"
      ],
      "execution_count": null,
      "outputs": []
    }
  ]
}